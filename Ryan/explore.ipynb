{
    "cells": [
        {
            "cell_type": "markdown",
            "metadata": {},
            "source": [
                "# Explore here"
            ]
        },
        {
            "cell_type": "code",
            "execution_count": 25,
            "metadata": {},
            "outputs": [
                {
                    "name": "stdout",
                    "output_type": "stream",
                    "text": [
                        "   duration_ms             name  popularity\n",
                        "9     3.795850  Trouble No More          47\n",
                        "5     7.519333          Jessica          53\n",
                        "7     5.290633    Whipping Post          57\n",
                        "8     6.725100        Soulshine          57\n",
                        "6     2.129100    Little Martha          58\n"
                    ]
                },
                {
                    "data": {
                        "image/png": "[encoded data removed]",
                        "text/plain": [
                            "<Figure size 640x480 with 1 Axes>"
                        ]
                    },
                    "metadata": {},
                    "output_type": "display_data"
                }
            ],
            "source": [
                "import os\n",
                "from dotenv import load_dotenv\n",
                "import spotipy\n",
                "from spotipy.oauth2 import SpotifyClientCredentials\n",
                "import seaborn as sns\n",
                "\n",
                "load_dotenv()\n",
                "\n",
                "client_id = os.environ.get('CLIENT_ID')\n",
                "client_secret = os.environ.get('CLIENT_SECRET')\n",
                "\n",
                "con = spotipy.Spotify(auth_manager = SpotifyClientCredentials(client_id = client_id,\n",
                "                                                              client_secret = client_secret))\n",
                "\n",
                "allman = 'spotify:artist:4wQ3PyMz3WwJGI5uEqHUVR'\n",
                "response = con.artist_top_tracks(allman)\n",
                "\n",
                "\n",
                "if response:\n",
                "  # We keep the \"tracks\" object of the answer\n",
                "  tracks = response[\"tracks\"]\n",
                "  # We select, for each song, the data we are interested in and discard the rest\n",
                "  tracks = [{k: (v/(1000*60))%60 if k == \"duration_ms\" else v for k, v in track.items() if k in [\"name\", \"popularity\", \"duration_ms\"]} for track in tracks]\n",
                "\n",
                "  import pandas as pd\n",
                "\n",
                "tracks_df = pd.DataFrame.from_records(tracks)\n",
                "tracks_df.sort_values([\"popularity\"], inplace = True)\n",
                "\n",
                "print(tracks_df.head(5))\n",
                "\n",
                "\n",
                "scatter_plot = sns.scatterplot(data = tracks_df, x = \"popularity\", y = \"duration_ms\")\n",
                "fig = scatter_plot.get_figure()\n",
                "fig.savefig(\"scatter_plot.png\")"
            ]
        }
    ],
    "metadata": {
        "kernelspec": {
            "display_name": "Python 3.8.13 64-bit ('3.8.13')",
            "language": "python",
            "name": "python3"
        },
        "language_info": {
            "codemirror_mode": {
                "name": "ipython",
                "version": 3
            },
            "file_extension": ".py",
            "mimetype": "text/x-python",
            "name": "python",
            "nbconvert_exporter": "python",
            "pygments_lexer": "ipython3",
            "version": "3.11.4"
        },
        "orig_nbformat": 4,
        "vscode": {
            "interpreter": {
                "hash": "110cc1dee26208153f2972f08a2ad52b6a56238dc66d48e87fb757ef2996db56"
            }
        }
    },
    "nbformat": 4,
    "nbformat_minor": 2
}
