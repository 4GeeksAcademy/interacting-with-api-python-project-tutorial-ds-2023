{
 "cells": [
  {
   "cell_type": "markdown",
   "metadata": {},
   "source": [
    "## Interacting with Spotify's API\n",
    "\n",
    "Spotify can be used as a data source for various data science projects. In this exercise, we will learn how to interact with the API of this social network. `Spotipy` is an open source and Python library that allows high-level use of the Spotify API.\n",
    "\n",
    "### Step 1: Create a Spotify Developer Account\n",
    "The first step is to create an application to be able to access Spotify's API services. You can find all the information [here](https://developer.spotify.com/documentation/web-api).\n",
    "\n",
    "Once you have logged in using your Spotify account, you will be able to create the application to access the credentials needed to consume the API. You will need to fill in the following fields:\n",
    "\n",
    "![Spotify create app](https://github.com/4GeeksAcademy/interacting-with-api-python-project-tutorial/blob/main/assets/spotify_1.PNG?raw=true)\n",
    "\n",
    "> NOTE: As we are not going to use this API from any other web application, leave the `Redirect URI` field as `http://localhost/`.\n",
    "\n",
    "Once you complete the form, you will have your application created. Next, in the `settings` section you can find your `Client ID` and `Client Secret`.\n",
    "\n",
    "### Step 2: Initial configuration\n",
    "\n",
    "- Create an app.py file inside the `./src/` folder.\n",
    "- Make sure you have installed the Python library we are going to use, and if not, install it: `pip install spotipy`.\n",
    "\n",
    "### Step 3: Environment variables\n",
    "\n",
    "You must provide the Spotify key and token in order to use the API and access its functionality. As we saw in the previous project, you can easily do this by creating a `.env` file in the root directory of your project.\n",
    "\n",
    "The third step is to create an `.env` file in your project and add your secret keys or passwords:\n",
    "\n",
    "```py\n",
    "CLIENT_ID=\"insert your client key\"\n",
    "CLIENT_SECRET=\"insert your client secret\"\n",
    "```\n",
    "\n",
    "> NOTE: Be sure to add the .env inside your .gitignore file, which is not saved in source control, so that you are not putting potentially sensitive information at risk.\n",
    "\n",
    "Now, you must install python-dotenvpackage. python-dotenvpackage is a Python package that allows your Python application to read an .env file. This package will look for an .env and, if found, expose the variables it contains to the application.\n",
    "\n",
    "Example:\n",
    "\n",
    "```py\n",
    "from dotenv import load_dotenv\n",
    "load_dotenv()\n",
    "\n",
    "import os\n",
    "\n",
    "client_id = os.environ.get(\"CLIENT_ID\")\n",
    "client_secret = os.environ.get(\"CLIENT_SECRET\")\n",
    "```\n",
    "\n",
    "### Step 4: Initialize Spotipy library\n",
    "\n",
    "- Import Spotipy.\n",
    "- Make the connection to the API. To do this, you can use the `spotipy.Spotify()` function.\n",
    "\n",
    "> NOTE: Use the following documentation as a guide on parameters: https://spotipy.readthedocs.io/en/2.22.1\n",
    "\n",
    "### Step 5: Make API requests\n",
    "\n",
    "- Start interacting with the Spotify API: Get the top 10 of your favorite artist's songs. To do this, you will have to find the `ID` of the artist to use in the library. This identifier is the web address that the artist has in Spotify:\n",
    "\n",
    "![Spotify search for artist ID](https://github.com/4GeeksAcademy/interacting-with-api-python-project-tutorial/blob/main/assets/spotify_2.png?raw=true)\n",
    "\n",
    "- Once you have the API response, keep the `tracks` element, which will contain the most played songs of the artist, keep the name of the song, the popularity and the duration (in minutes).\n",
    "\n",
    "### Step 6: Transform to Pandas DataFrame\n",
    "\n",
    "Since the result obtained in these steps is likely to be in table format, convert it to a DataFrame by importing the data in its dictionary format. Next, sort the songs by increasing popularity and display the resulting top 3.\n",
    "\n",
    "### Step 7: Analyze statistical relationship\n",
    "\n",
    "Does duration have a relationship with popularity? Could we say that a song that lasts a short time may be more popular than a song that lasts longer? Analyze it by plotting a `scatter plot` and argue your answer."
   ]
  },
  {
   "cell_type": "code",
   "execution_count": 11,
   "metadata": {},
   "outputs": [],
   "source": [
    "from dotenv import load_dotenv\n",
    "load_dotenv()\n",
    "\n",
    "import os\n",
    "\n",
    "client_id = os.environ.get(\"CLIENT_ID\")\n",
    "client_secret = os.environ.get(\"CLIENT_SECRET\")"
   ]
  },
  {
   "cell_type": "code",
   "execution_count": 12,
   "metadata": {},
   "outputs": [],
   "source": [
    "import spotipy"
   ]
  },
  {
   "cell_type": "code",
   "execution_count": 13,
   "metadata": {},
   "outputs": [],
   "source": [
    "import spotipy\n",
    "from spotipy.oauth2 import SpotifyClientCredentials"
   ]
  },
  {
   "cell_type": "code",
   "execution_count": 14,
   "metadata": {},
   "outputs": [],
   "source": [
    "# Spotify API credentials\n",
    "SPOTIPY_CLIENT_ID = client_id\n",
    "SPOTIPY_CLIENT_SECRET = client_secret\n",
    "\n",
    "# Create Spotify client credentials manager\n",
    "client_credentials_manager = SpotifyClientCredentials(client_id=SPOTIPY_CLIENT_ID, client_secret=SPOTIPY_CLIENT_SECRET)\n",
    "\n",
    "# Create Spotify object\n",
    "sp = spotipy.Spotify(client_credentials_manager=client_credentials_manager)\n"
   ]
  },
  {
   "cell_type": "code",
   "execution_count": 15,
   "metadata": {},
   "outputs": [
    {
     "name": "stdout",
     "output_type": "stream",
     "text": [
      "[{'name': 'Ni**as In Paris', 'popularity': 84, 'duration_min': 3.65555}, {'name': 'Empire State Of Mind', 'popularity': 85, 'duration_min': 4.615333333333333}, {'name': 'Numb / Encore', 'popularity': 81, 'duration_min': 3.4288833333333333}, {'name': 'Run This Town', 'popularity': 81, 'duration_min': 4.458666666666667}, {'name': 'No Church In The Wild', 'popularity': 75, 'duration_min': 4.541766666666667}, {'name': 'Why I Love You', 'popularity': 74, 'duration_min': 3.35755}, {'name': '4:44', 'popularity': 74, 'duration_min': 4.74155}, {'name': 'Gotta Have It', 'popularity': 69, 'duration_min': 2.3457666666666666}, {'name': 'Otis', 'popularity': 72, 'duration_min': 2.9702166666666665}, {'name': \"Big Pimpin'\", 'popularity': 73, 'duration_min': 4.717766666666667}]\n"
     ]
    }
   ],
   "source": [
    "# Search for the artist\n",
    "artist_name = 'Jay-Z'  # Replace with the desired artist's name\n",
    "results = sp.search(q=artist_name, type='artist')\n",
    "\n",
    "# Get the artist's top tracks\n",
    "artist_id = results['artists']['items'][0]['id']  # Get the artist ID from the search results\n",
    "top_tracks = sp.artist_top_tracks(artist_id)\n",
    "\n",
    "# Extract track details\n",
    "tracks = []\n",
    "for track in top_tracks['tracks']:\n",
    "    track_name = track['name']\n",
    "    popularity = track['popularity']\n",
    "    duration_ms = track['duration_ms']  # Duration in milliseconds\n",
    "    duration_min = duration_ms / 60000  # Convert duration to minutes\n",
    "    tracks.append({'name': track_name, 'popularity': popularity, 'duration_min': duration_min})\n",
    "\n",
    "# 'tracks' list now contains the most played songs of the artist with name, popularity, and duration in minutes\n",
    "print(tracks)\n"
   ]
  },
  {
   "cell_type": "code",
   "execution_count": 16,
   "metadata": {},
   "outputs": [],
   "source": [
    "import pandas as pd"
   ]
  },
  {
   "cell_type": "code",
   "execution_count": 19,
   "metadata": {},
   "outputs": [
    {
     "name": "stdout",
     "output_type": "stream",
     "text": [
      "                    name  popularity  duration_min\n",
      "7          Gotta Have It          69      2.345767\n",
      "8                   Otis          72      2.970217\n",
      "9            Big Pimpin'          73      4.717767\n",
      "5         Why I Love You          74      3.357550\n",
      "6                   4:44          74      4.741550\n",
      "4  No Church In The Wild          75      4.541767\n",
      "2          Numb / Encore          81      3.428883\n",
      "3          Run This Town          81      4.458667\n",
      "0        Ni**as In Paris          84      3.655550\n",
      "1   Empire State Of Mind          85      4.615333\n"
     ]
    }
   ],
   "source": [
    "# Convert the list of dictionaries to a DataFrame\n",
    "df = pd.DataFrame(tracks)\n",
    "\n",
    "# Sort the DataFrame by increasing popularity\n",
    "df_sorted = df.sort_values(by='popularity', ascending=True)\n",
    "\n",
    "# Display the top 3 songs by increasing popularity\n",
    "top_3_songs = df_sorted.head(10)\n",
    "print(top_3_songs)"
   ]
  },
  {
   "cell_type": "code",
   "execution_count": 18,
   "metadata": {},
   "outputs": [
    {
     "data": {
      "image/png": "[encoded data removed]",
      "text/plain": [
       "<Figure size 1000x600 with 1 Axes>"
      ]
     },
     "metadata": {},
     "output_type": "display_data"
    }
   ],
   "source": [
    "import matplotlib.pyplot as plt\n",
    "import seaborn as sns\n",
    "\n",
    "# Assuming df is your DataFrame containing 'name', 'popularity', and 'duration_min' columns\n",
    "# Replace this with your actual DataFrame\n",
    "\n",
    "# Set the style of the plot\n",
    "sns.set(style=\"whitegrid\")\n",
    "\n",
    "# Create a scatter plot\n",
    "plt.figure(figsize=(10, 6))\n",
    "sns.scatterplot(x=\"duration_min\", y=\"popularity\", data=df)\n",
    "\n",
    "# Set plot labels and title\n",
    "plt.xlabel(\"Duration (minutes)\")\n",
    "plt.ylabel(\"Popularity\")\n",
    "plt.title(\"Relationship between Song Duration and Popularity\")\n",
    "\n",
    "# Display the plot\n",
    "plt.show()\n"
   ]
  },
  {
   "cell_type": "markdown",
   "metadata": {},
   "source": [
    "For this artist, there is no linear relationship or correlation between population and duration. Songs with longer duration has a large enough range of popularity. "
   ]
  },
  {
   "cell_type": "markdown",
   "metadata": {},
   "source": []
  }
 ],
 "metadata": {
  "kernelspec": {
   "display_name": "Python 3",
   "language": "python",
   "name": "python3"
  },
  "language_info": {
   "codemirror_mode": {
    "name": "ipython",
    "version": 3
   },
   "file_extension": ".py",
   "mimetype": "text/x-python",
   "name": "python",
   "nbconvert_exporter": "python",
   "pygments_lexer": "ipython3",
   "version": "3.11.4"
  }
 },
 "nbformat": 4,
 "nbformat_minor": 2
}
