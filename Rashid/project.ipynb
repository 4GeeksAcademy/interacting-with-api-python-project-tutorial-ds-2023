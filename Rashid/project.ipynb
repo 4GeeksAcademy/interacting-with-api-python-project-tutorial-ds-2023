{
 "cells": [
  {
   "cell_type": "markdown",
   "metadata": {},
   "source": [
    "## Interacting with Spotify's API\n",
    "\n",
    "Spotify can be used as a data source for various data science projects. In this exercise, we will learn how to interact with the API of this social network. `Spotipy` is an open source and Python library that allows high-level use of the Spotify API.\n",
    "\n",
    "### Step 1: Create a Spotify Developer Account\n",
    "The first step is to create an application to be able to access Spotify's API services. You can find all the information [here](https://developer.spotify.com/documentation/web-api).\n",
    "\n",
    "Once you have logged in using your Spotify account, you will be able to create the application to access the credentials needed to consume the API. You will need to fill in the following fields:\n",
    "\n",
    "![Spotify create app](https://github.com/4GeeksAcademy/interacting-with-api-python-project-tutorial/blob/main/assets/spotify_1.PNG?raw=true)\n",
    "\n",
    "> NOTE: As we are not going to use this API from any other web application, leave the `Redirect URI` field as `http://localhost/`.\n",
    "\n",
    "Once you complete the form, you will have your application created. Next, in the `settings` section you can find your `Client ID` and `Client Secret`.\n",
    "\n",
    "### Step 2: Initial configuration\n",
    "\n",
    "- Create an app.py file inside the `./src/` folder.\n",
    "- Make sure you have installed the Python library we are going to use, and if not, install it: `pip install spotipy`.\n",
    "\n",
    "### Step 3: Environment variables\n",
    "\n",
    "You must provide the Spotify key and token in order to use the API and access its functionality. As we saw in the previous project, you can easily do this by creating a `.env` file in the root directory of your project.\n",
    "\n",
    "The third step is to create an `.env` file in your project and add your secret keys or passwords:\n",
    "\n",
    "```py\n",
    "CLIENT_ID=\"insert your client key\"\n",
    "CLIENT_SECRET=\"insert your client secret\"\n",
    "```\n",
    "\n",
    "> NOTE: Be sure to add the .env inside your .gitignore file, which is not saved in source control, so that you are not putting potentially sensitive information at risk.\n",
    "\n",
    "Now, you must install python-dotenvpackage. python-dotenvpackage is a Python package that allows your Python application to read an .env file. This package will look for an .env and, if found, expose the variables it contains to the application.\n",
    "\n",
    "Example:\n",
    "\n",
    "```py\n",
    "from dotenv import load_dotenv\n",
    "load_dotenv()\n",
    "\n",
    "import os\n",
    "\n",
    "client_id = os.environ.get(\"CLIENT_ID\")\n",
    "client_secret = os.environ.get(\"CLIENT_SECRET\")\n",
    "```\n",
    "\n",
    "### Step 4: Initialize Spotipy library\n",
    "\n",
    "- Import Spotipy.\n",
    "- Make the connection to the API. To do this, you can use the `spotipy.Spotify()` function.\n",
    "\n",
    "> NOTE: Use the following documentation as a guide on parameters: https://spotipy.readthedocs.io/en/2.22.1\n",
    "\n",
    "### Step 5: Make API requests\n",
    "\n",
    "- Start interacting with the Spotify API: Get the top 10 of your favorite artist's songs. To do this, you will have to find the `ID` of the artist to use in the library. This identifier is the web address that the artist has in Spotify:\n",
    "\n",
    "![Spotify search for artist ID](https://github.com/4GeeksAcademy/interacting-with-api-python-project-tutorial/blob/main/assets/spotify_2.png?raw=true)\n",
    "\n",
    "- Once you have the API response, keep the `tracks` element, which will contain the most played songs of the artist, keep the name of the song, the popularity and the duration (in minutes).\n",
    "\n",
    "### Step 6: Transform to Pandas DataFrame\n",
    "\n",
    "Since the result obtained in these steps is likely to be in table format, convert it to a DataFrame by importing the data in its dictionary format. Next, sort the songs by increasing popularity and display the resulting top 3.\n",
    "\n",
    "### Step 7: Analyze statistical relationship\n",
    "\n",
    "Does duration have a relationship with popularity? Could we say that a song that lasts a short time may be more popular than a song that lasts longer? Analyze it by plotting a `scatter plot` and argue your answer."
   ]
  },
  {
   "cell_type": "code",
   "execution_count": 2,
   "metadata": {},
   "outputs": [],
   "source": [
    "from dotenv import load_dotenv\n",
    "load_dotenv()\n",
    "\n",
    "import os\n",
    "\n",
    "client_id = os.environ.get(\"CLIENT_ID\")\n",
    "client_secret = os.environ.get(\"CLIENT_SECRET\")"
   ]
  },
  {
   "cell_type": "code",
   "execution_count": 3,
   "metadata": {},
   "outputs": [],
   "source": [
    "import spotipy"
   ]
  },
  {
   "cell_type": "code",
   "execution_count": 4,
   "metadata": {},
   "outputs": [],
   "source": [
    "import spotipy\n",
    "from spotipy.oauth2 import SpotifyClientCredentials"
   ]
  },
  {
   "cell_type": "code",
   "execution_count": 5,
   "metadata": {},
   "outputs": [],
   "source": [
    "SPOTIPY_CLIENT_ID = client_id\n",
    "SPOTIPY_CLIENT_SECRET = client_secret\n",
    "\n",
    "client_credentials_manager = SpotifyClientCredentials(client_id=SPOTIPY_CLIENT_ID, client_secret=SPOTIPY_CLIENT_SECRET)\n",
    "\n",
    "sp = spotipy.Spotify(client_credentials_manager=client_credentials_manager)\n"
   ]
  },
  {
   "cell_type": "code",
   "execution_count": 6,
   "metadata": {},
   "outputs": [
    {
     "name": "stdout",
     "output_type": "stream",
     "text": [
      "[{'name': 'Here Comes The Sun - Remastered 2009', 'popularity': 85, 'duration_min': 3.09555}, {'name': 'Come Together - Remastered 2009', 'popularity': 80, 'duration_min': 4.332433333333333}, {'name': 'Yesterday - Remastered 2009', 'popularity': 79, 'duration_min': 2.0944333333333334}, {'name': 'Let It Be - Remastered 2009', 'popularity': 79, 'duration_min': 4.050433333333333}, {'name': 'Twist And Shout - Remastered 2009', 'popularity': 79, 'duration_min': 2.5871}, {'name': 'Blackbird - Remastered 2009', 'popularity': 77, 'duration_min': 2.306433333333333}, {'name': 'In My Life - Remastered 2009', 'popularity': 77, 'duration_min': 2.4388833333333335}, {'name': 'Hey Jude - Remastered 2009', 'popularity': 68, 'duration_min': 7.188883333333333}, {'name': 'Something - Remastered 2009', 'popularity': 74, 'duration_min': 3.0382166666666666}, {'name': 'I Want To Hold Your Hand - Remastered 2009', 'popularity': 69, 'duration_min': 2.445333333333333}]\n"
     ]
    }
   ],
   "source": [
    "artist_name = 'Beatles'  \n",
    "results = sp.search(q=artist_name, type='artist')\n",
    "\n",
    "artist_id = results['artists']['items'][0]['id']  \n",
    "top_tracks = sp.artist_top_tracks(artist_id)\n",
    "\n",
    "tracks = []\n",
    "for track in top_tracks['tracks']:\n",
    "    track_name = track['name']\n",
    "    popularity = track['popularity']\n",
    "    duration_ms = track['duration_ms'] \n",
    "    duration_min = duration_ms / 60000  \n",
    "    tracks.append({'name': track_name, 'popularity': popularity, 'duration_min': duration_min})\n",
    "\n",
    "print(tracks)\n"
   ]
  },
  {
   "cell_type": "code",
   "execution_count": 7,
   "metadata": {},
   "outputs": [],
   "source": [
    "import pandas as pd"
   ]
  },
  {
   "cell_type": "code",
   "execution_count": 8,
   "metadata": {},
   "outputs": [
    {
     "name": "stdout",
     "output_type": "stream",
     "text": [
      "                                         name  popularity  duration_min\n",
      "7                  Hey Jude - Remastered 2009          68      7.188883\n",
      "9  I Want To Hold Your Hand - Remastered 2009          69      2.445333\n",
      "8                 Something - Remastered 2009          74      3.038217\n",
      "5                 Blackbird - Remastered 2009          77      2.306433\n",
      "6                In My Life - Remastered 2009          77      2.438883\n",
      "2                 Yesterday - Remastered 2009          79      2.094433\n",
      "3                 Let It Be - Remastered 2009          79      4.050433\n",
      "4           Twist And Shout - Remastered 2009          79      2.587100\n",
      "1             Come Together - Remastered 2009          80      4.332433\n",
      "0        Here Comes The Sun - Remastered 2009          85      3.095550\n"
     ]
    }
   ],
   "source": [
    "df = pd.DataFrame(tracks)\n",
    "\n",
    "df_sorted = df.sort_values(by='popularity', ascending=True)\n",
    "\n",
    "top_3_songs = df_sorted.head(10)\n",
    "print(top_3_songs)"
   ]
  },
  {
   "cell_type": "code",
   "execution_count": 9,
   "metadata": {},
   "outputs": [
    {
     "data": {
      "image/png": "[encoded data removed]",
      "text/plain": [
       "<Figure size 1000x600 with 1 Axes>"
      ]
     },
     "metadata": {},
     "output_type": "display_data"
    }
   ],
   "source": [
    "import matplotlib.pyplot as plt\n",
    "import seaborn as sns\n",
    "\n",
    "sns.set(style=\"whitegrid\")\n",
    "\n",
    "plt.figure(figsize=(10, 6))\n",
    "sns.scatterplot(x=\"duration_min\", y=\"popularity\", data=df)\n",
    "\n",
    "plt.xlabel(\"Duration (minutes)\")\n",
    "plt.ylabel(\"Popularity\")\n",
    "plt.title(\"Relationship between Song Duration and Popularity\")\n",
    "\n",
    "plt.show()\n"
   ]
  },
  {
   "cell_type": "code",
   "execution_count": 10,
   "metadata": {},
   "outputs": [
    {
     "name": "stdout",
     "output_type": "stream",
     "text": [
      "Correlation coefficient using NumPy: -0.3947388572758453\n"
     ]
    }
   ],
   "source": [
    "import numpy as np\n",
    "\n",
    "correlation_coefficient = np.corrcoef(df_sorted['duration_min'], df_sorted['popularity'])[0, 1]\n",
    "print(\"Correlation coefficient using NumPy:\", correlation_coefficient)\n"
   ]
  },
  {
   "cell_type": "markdown",
   "metadata": {},
   "source": [
    "For the beatles, we find a moderate negative correlation between duration and popularity. So, as the duration increases, popularity tends to decrease. On average, shorter durations might be associated with higher popularity and longer with lower populairty. "
   ]
  },
  {
   "cell_type": "markdown",
   "metadata": {},
   "source": []
  }
 ],
 "metadata": {
  "kernelspec": {
   "display_name": "Python 3",
   "language": "python",
   "name": "python3"
  },
  "language_info": {
   "codemirror_mode": {
    "name": "ipython",
    "version": 3
   },
   "file_extension": ".py",
   "mimetype": "text/x-python",
   "name": "python",
   "nbconvert_exporter": "python",
   "pygments_lexer": "ipython3",
   "version": "3.11.4"
  }
 },
 "nbformat": 4,
 "nbformat_minor": 2
}
