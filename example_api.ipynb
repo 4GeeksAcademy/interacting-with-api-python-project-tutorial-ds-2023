{
 "cells": [
  {
   "cell_type": "code",
   "execution_count": 4,
   "metadata": {},
   "outputs": [],
   "source": [
    "import requests\n",
    "\n",
    "# Define the API URL\n",
    "api_url = \"http://localhost:8000/calculate_bmi/\"\n",
    "\n",
    "# Define the input data (height and weight)\n",
    "input_data = {\n",
    "    \"height\": 1.75,  # Replace with the user's height in meters\n",
    "    \"weight\": 70.0,  # Replace with the user's weight in kilograms\n",
    "}"
   ]
  },
  {
   "cell_type": "code",
   "execution_count": 5,
   "metadata": {},
   "outputs": [],
   "source": [
    "# Send a POST request to calculate the BMI\n",
    "response = requests.post(api_url, json=input_data)"
   ]
  },
  {
   "cell_type": "code",
   "execution_count": 6,
   "metadata": {},
   "outputs": [
    {
     "name": "stdout",
     "output_type": "stream",
     "text": [
      "<Response [200]>\n",
      "{\"bmi\":22.857142857142858}\n"
     ]
    }
   ],
   "source": [
    "print(response)\n",
    "print(response.text)"
   ]
  },
  {
   "cell_type": "code",
   "execution_count": 7,
   "metadata": {},
   "outputs": [
    {
     "name": "stdout",
     "output_type": "stream",
     "text": [
      "Your BMI is: 22.86\n"
     ]
    }
   ],
   "source": [
    "# Check the response\n",
    "if response.status_code == 200:\n",
    "    # Parse the JSON response\n",
    "    data = response.json()\n",
    "    bmi = data[\"bmi\"]\n",
    "    print(f\"Your BMI is: {bmi:.2f}\")\n",
    "else:\n",
    "    print(f\"Failed to calculate BMI. Status code: {response.status_code}\")"
   ]
  },
  {
   "cell_type": "code",
   "execution_count": null,
   "metadata": {},
   "outputs": [],
   "source": []
  }
 ],
 "metadata": {
  "kernelspec": {
   "display_name": "Python 3",
   "language": "python",
   "name": "python3"
  },
  "language_info": {
   "codemirror_mode": {
    "name": "ipython",
    "version": 3
   },
   "file_extension": ".py",
   "mimetype": "text/x-python",
   "name": "python",
   "nbconvert_exporter": "python",
   "pygments_lexer": "ipython3",
   "version": "3.11.4"
  }
 },
 "nbformat": 4,
 "nbformat_minor": 2
}
